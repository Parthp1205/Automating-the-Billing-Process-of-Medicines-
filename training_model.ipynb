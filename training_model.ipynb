{
  "cells": [
    {
      "cell_type": "code",
      "execution_count": null,
      "id": "52715c0a",
      "metadata": {
        "id": "52715c0a"
      },
      "outputs": [],
      "source": [
        "! pip install -U spacy -q"
      ]
    },
    {
      "cell_type": "code",
      "execution_count": null,
      "id": "6a4315f0",
      "metadata": {
        "colab": {
          "base_uri": "https://localhost:8080/"
        },
        "id": "6a4315f0",
        "outputId": "14b07057-0492-4f7d-9644-515fa0af198a",
        "scrolled": true
      },
      "outputs": [
        {
          "name": "stdout",
          "output_type": "stream",
          "text": [
            "\u001b[1m\n",
            "============================== Info about spaCy ==============================\u001b[0m\n",
            "\n",
            "spaCy version    3.7.4                         \n",
            "Location         /usr/local/lib/python3.10/dist-packages/spacy\n",
            "Platform         Linux-6.1.58+-x86_64-with-glibc2.35\n",
            "Python version   3.10.12                       \n",
            "Pipelines        en_core_web_sm (3.7.1)        \n",
            "\n"
          ]
        }
      ],
      "source": [
        "!python -m spacy info"
      ]
    },
    {
      "cell_type": "code",
      "execution_count": null,
      "id": "212343a9",
      "metadata": {
        "id": "212343a9"
      },
      "outputs": [],
      "source": [
        "import os\n",
        "os.environ['KMP_DUPLICATE_LIB_OK']='True'"
      ]
    },
    {
      "cell_type": "code",
      "execution_count": null,
      "id": "742c6d6c",
      "metadata": {
        "id": "742c6d6c"
      },
      "outputs": [],
      "source": [
        "import spacy\n",
        "from spacy.tokens import DocBin\n",
        "from tqdm import tqdm\n",
        "\n",
        "nlp = spacy.blank(\"en\") # load a new spacy model\n",
        "db = DocBin() # create a DocBin object"
      ]
    },
    {
      "cell_type": "code",
      "execution_count": null,
      "id": "c509b4a6",
      "metadata": {
        "id": "c509b4a6"
      },
      "outputs": [],
      "source": [
        "import json\n",
        "f = open('train_data.json')\n",
        "TRAIN_DATA = json.load(f)"
      ]
    },
    {
      "cell_type": "code",
      "execution_count": null,
      "id": "5dd01c7f",
      "metadata": {
        "colab": {
          "base_uri": "https://localhost:8080/"
        },
        "id": "5dd01c7f",
        "outputId": "09e301fc-d01e-4e49-e4a8-24ad7e595442"
      },
      "outputs": [
        {
          "name": "stderr",
          "output_type": "stream",
          "text": [
            "  9%|▊         | 70/811 [00:00<00:02, 335.40it/s]"
          ]
        },
        {
          "name": "stdout",
          "output_type": "stream",
          "text": [
            "Skipping entity\n",
            "Skipping entity\n",
            "Skipping entity\n",
            "Skipping entity\n"
          ]
        },
        {
          "name": "stderr",
          "output_type": "stream",
          "text": [
            "100%|██████████| 811/811 [00:01<00:00, 431.93it/s]\n"
          ]
        }
      ],
      "source": [
        "for text, annot in tqdm(TRAIN_DATA['annotations']):\n",
        "    doc = nlp.make_doc(text)\n",
        "    ents = []\n",
        "    for start, end, label in annot[\"entities\"]:\n",
        "        span = doc.char_span(start, end, label=label, alignment_mode=\"contract\")\n",
        "        if span is None:\n",
        "            print(\"Skipping entity\")\n",
        "        else:\n",
        "            ents.append(span)\n",
        "    doc.ents = ents\n",
        "    db.add(doc)\n",
        "\n",
        "db.to_disk(\"./training_data.spacy\") # save the docbin object"
      ]
    },
    {
      "cell_type": "code",
      "execution_count": null,
      "id": "b4ceb5ba",
      "metadata": {
        "colab": {
          "base_uri": "https://localhost:8080/"
        },
        "id": "b4ceb5ba",
        "outputId": "c8ab0f26-08e4-401a-894c-beb562515b98"
      },
      "outputs": [
        {
          "name": "stdout",
          "output_type": "stream",
          "text": [
            "\u001b[38;5;3m⚠ To generate a more effective transformer-based config (GPU-only),\n",
            "install the spacy-transformers package and re-run this command. The config\n",
            "generated now does not use transformers.\u001b[0m\n",
            "\u001b[38;5;4mℹ Generated config template specific for your use case\u001b[0m\n",
            "- Language: en\n",
            "- Pipeline: ner\n",
            "- Optimize for: accuracy\n",
            "- Hardware: CPU\n",
            "- Transformer: None\n",
            "\u001b[38;5;2m✔ Auto-filled config with all values\u001b[0m\n",
            "\u001b[38;5;2m✔ Saved config\u001b[0m\n",
            "config.cfg\n",
            "You can now add your data and train your pipeline:\n",
            "python -m spacy train config.cfg --paths.train ./train.spacy --paths.dev ./dev.spacy\n"
          ]
        }
      ],
      "source": [
        "! python -m spacy init config config.cfg --lang en --pipeline ner --optimize accuracy"
      ]
    },
    {
      "cell_type": "code",
      "source": [
        "#change lm to sm in config file"
      ],
      "metadata": {
        "id": "5KYzs-R1Rto2"
      },
      "id": "5KYzs-R1Rto2",
      "execution_count": null,
      "outputs": []
    },
    {
      "cell_type": "code",
      "execution_count": null,
      "id": "8ee705ee",
      "metadata": {
        "colab": {
          "base_uri": "https://localhost:8080/"
        },
        "id": "8ee705ee",
        "outputId": "594ecc10-69b2-4e98-cab6-218dc66a49ac"
      },
      "outputs": [
        {
          "output_type": "stream",
          "name": "stdout",
          "text": [
            "\u001b[38;5;4mℹ Saving to output directory: .\u001b[0m\n",
            "\u001b[38;5;4mℹ Using CPU\u001b[0m\n",
            "\u001b[1m\n",
            "=========================== Initializing pipeline ===========================\u001b[0m\n",
            "[2024-05-06 05:41:25,884] [WARNING] [W112] The model specified to use for initial vectors (en_core_web_sm) has no vectors. This is almost certainly a mistake.\n",
            "\u001b[38;5;2m✔ Initialized pipeline\u001b[0m\n",
            "\u001b[1m\n",
            "============================= Training pipeline =============================\u001b[0m\n",
            "\u001b[38;5;4mℹ Pipeline: ['tok2vec', 'ner']\u001b[0m\n",
            "\u001b[38;5;4mℹ Initial learn rate: 0.001\u001b[0m\n",
            "E    #       LOSS TOK2VEC  LOSS NER  ENTS_F  ENTS_P  ENTS_R  SCORE \n",
            "---  ------  ------------  --------  ------  ------  ------  ------\n",
            "  0       0          0.00     61.58    0.00    0.00    0.00    0.00\n",
            "  0     200        300.43   1200.45   80.82   85.17   76.89    0.81\n",
            "  0     400         73.97    326.66   84.45   88.61   80.67    0.84\n",
            "  1     600         78.99    252.90   82.59   96.40   72.25    0.83\n",
            "  2     800         85.89    286.42   87.59   90.36   84.99    0.88\n",
            "  2    1000        113.38    298.28   88.81   92.11   85.75    0.89\n",
            "  4    1200        938.88    420.06   88.74   90.74   86.83    0.89\n",
            "  5    1400       1530.54    418.37   93.42   95.70   91.25    0.93\n",
            "  7    1600       1842.29    411.71   96.16   96.42   95.90    0.96\n",
            "  9    1800        230.15    229.52   97.57   97.42   97.73    0.98\n",
            " 11    2000      30950.24    326.56   98.33   98.38   98.27    0.98\n",
            " 15    2200       2244.88    333.59   98.06   98.06   98.06    0.98\n",
            " 18    2400        533.46    205.92   99.46   99.57   99.35    0.99\n",
            " 22    2600         50.11     43.32   99.62   99.68   99.57    1.00\n",
            " 26    2800        252.79     67.84   99.73   99.68   99.78    1.00\n",
            " 30    3000         71.98     38.24   99.73   99.89   99.57    1.00\n",
            " 34    3200         92.73     55.04   99.78   99.68   99.89    1.00\n",
            " 38    3400        385.16     83.94   99.62   99.68   99.57    1.00\n",
            " 42    3600         53.72     35.37   99.73   99.78   99.68    1.00\n",
            " 46    3800        398.84     93.74   99.73   99.68   99.78    1.00\n",
            " 50    4000        218.14     64.74   99.84   99.89   99.78    1.00\n",
            " 54    4200         52.19     20.77   99.67  100.00   99.35    1.00\n",
            " 58    4400        274.51     75.84   99.30   99.03   99.57    0.99\n",
            " 62    4600        156.25     53.77   99.84   99.89   99.78    1.00\n",
            " 66    4800        107.32     40.01  100.00  100.00  100.00    1.00\n",
            " 70    5000         90.76     19.36  100.00  100.00  100.00    1.00\n",
            " 74    5200        111.58     22.42  100.00  100.00  100.00    1.00\n",
            " 77    5400          0.00      0.00  100.00  100.00  100.00    1.00\n",
            " 81    5600          6.28      1.45   99.78   99.78   99.78    1.00\n",
            " 85    5800        942.96    177.62   99.24   99.35   99.14    0.99\n",
            " 89    6000        331.83    110.56   99.78   99.78   99.78    1.00\n",
            " 93    6200        228.93     50.87   99.89   99.89   99.89    1.00\n",
            " 97    6400        113.69     34.49   99.89   99.89   99.89    1.00\n",
            "\u001b[38;5;2m✔ Saved pipeline to output directory\u001b[0m\n",
            "model-last\n"
          ]
        }
      ],
      "source": [
        "! python -m spacy train config.cfg --output ./ --paths.train ./training_data.spacy --paths.dev ./training_data.spacy"
      ]
    },
    {
      "cell_type": "code",
      "execution_count": null,
      "id": "3159ec06",
      "metadata": {
        "id": "3159ec06"
      },
      "outputs": [],
      "source": [
        "nlp_ner = spacy.load(\"./model-best\")"
      ]
    },
    {
      "cell_type": "code",
      "execution_count": null,
      "id": "be130e6e",
      "metadata": {
        "id": "be130e6e"
      },
      "outputs": [],
      "source": []
    },
    {
      "cell_type": "code",
      "execution_count": null,
      "id": "375e891e",
      "metadata": {
        "colab": {
          "base_uri": "https://localhost:8080/",
          "height": 332
        },
        "id": "375e891e",
        "outputId": "9625acfe-213b-4090-b6cd-e3af77746125"
      },
      "outputs": [
        {
          "output_type": "display_data",
          "data": {
            "text/plain": [
              "<IPython.core.display.HTML object>"
            ],
            "text/html": [
              "<span class=\"tex2jax_ignore\"><div class=\"entities\" style=\"line-height: 2.5; direction: ltr\">Dose:As directed bhe Physician FROMLIGHT EXCEEDING25 capsule shell. Approved colours used in hard gelatin Excipients (ln the form of extended release pellets) Extended Release Gapsules Diltiazem Hydrochlonde I.P. Each hard gelatin capsule contains Swallow whole capsuie do not crush or chew FROMLIGHTANDMOISTURE. EXCEEDING25C,PROTECTED STORE ATA TEMPERATURE NOT Dose:As directed bthe Physician capsuleshell. Approvedcolours xcpients DILZEM CD-90 Ditiazem Hydrochloride TECTED nhard gelatin JR 90mg u q.s. eh.,Baddi Vill. Bhud &amp; Makhat PHARMACEUTIAS LTD Manufactured by Mfg. Lic. No. : MNB/05/183 DRUG RELEASETEST3. COMPLIES WITHUS.P. TORRENT Keep out of reachotchildren Dist. Solan (H.P.)INDIA. Vill. Bhud &amp; Makhnu Majra, PHARMACEUTICALSLTD Manufactured by Teh. 8 TORRENT the SCHEDULEH .Baddi-173205 preso torrent -forrent PharmA PHARMO DRUG ESCRIPTION 8079093-802 8079093-802 Majra TION tail withou DILZEM CD-90 \n",
              "<mark class=\"entity\" style=\"background: #ddd; padding: 0.45em 0.6em; margin: 0 0.25em; line-height: 1; border-radius: 0.35em;\">\n",
              "    B.No.CJY8JOO9\n",
              "    <span style=\"font-size: 0.8em; font-weight: bold; line-height: 1; border-radius: 0.35em; vertical-align: middle; margin-left: 0.5rem\">BATCH</span>\n",
              "</mark>\n",
              " M.R.P.PER BLISTER PACK MFG.JUL.2022OF10CAPS.于119·20 EXP.JUN.2024 INCLUSIVEOFALLTAXES</div></span>"
            ]
          },
          "metadata": {}
        }
      ],
      "source": [
        "text = 'Dose:As directed bhe Physician FROMLIGHT EXCEEDING25 capsule shell. Approved colours used in hard gelatin Excipients (ln the form of extended release pellets) Extended Release Gapsules Diltiazem Hydrochlonde I.P. Each hard gelatin capsule contains Swallow whole capsuie do not crush or chew FROMLIGHTANDMOISTURE. EXCEEDING25C,PROTECTED STORE ATA TEMPERATURE NOT Dose:As directed bthe Physician capsuleshell. Approvedcolours xcpients DILZEM CD-90 Ditiazem Hydrochloride TECTED nhard gelatin JR 90mg u q.s. eh.,Baddi Vill. Bhud & Makhat PHARMACEUTIAS LTD Manufactured by Mfg. Lic. No. : MNB/05/183 DRUG RELEASETEST3. COMPLIES WITHUS.P. TORRENT Keep out of reachotchildren Dist. Solan (H.P.)INDIA. Vill. Bhud & Makhnu Majra, PHARMACEUTICALSLTD Manufactured by Teh. 8 TORRENT the SCHEDULEH .Baddi-173205 preso torrent -forrent PharmA PHARMO DRUG ESCRIPTION 8079093-802 8079093-802 Majra TION tail withou DILZEM CD-90 B.No.CJY8JOO9 M.R.P.PER BLISTER PACK MFG.JUL.2022OF10CAPS.于119·20 EXP.JUN.2024 INCLUSIVEOFALLTAXES'\n",
        "doc = nlp_ner(text)\n",
        "spacy.displacy.render(doc, style=\"ent\", jupyter=True) # display in Jupyter"
      ]
    },
    {
      "cell_type": "code",
      "execution_count": null,
      "id": "0f963dee",
      "metadata": {
        "id": "0f963dee"
      },
      "outputs": [],
      "source": [
        "nlp_ner_1 = spacy.load(\"./model-best\")"
      ]
    },
    {
      "cell_type": "code",
      "execution_count": null,
      "id": "5f7e5195",
      "metadata": {
        "colab": {
          "base_uri": "https://localhost:8080/",
          "height": 192
        },
        "id": "5f7e5195",
        "outputId": "fe60f3c9-a20a-4734-9ec8-6ad6f17b28a0"
      },
      "outputs": [
        {
          "output_type": "display_data",
          "data": {
            "text/plain": [
              "<IPython.core.display.HTML object>"
            ],
            "text/html": [
              "<span class=\"tex2jax_ignore\"><div class=\"entities\" style=\"line-height: 2.5; direction: ltr\">  EXPIRYDATE: \n",
              "<mark class=\"entity\" style=\"background: #ddd; padding: 0.45em 0.6em; margin: 0 0.25em; line-height: 1; border-radius: 0.35em;\">\n",
              "    B.NoPR220707\n",
              "    <span style=\"font-size: 0.8em; font-weight: bold; line-height: 1; border-radius: 0.35em; vertical-align: middle; margin-left: 0.5rem\">BATCH</span>\n",
              "</mark>\n",
              " sideeffects. \n",
              "<mark class=\"entity\" style=\"background: #ddd; padding: 0.45em 0.6em; margin: 0 0.25em; line-height: 1; border-radius: 0.35em;\">\n",
              "    JUN.2024\n",
              "    <span style=\"font-size: 0.8em; font-weight: bold; line-height: 1; border-radius: 0.35em; vertical-align: middle; margin-left: 0.5rem\">EXPIRY</span>\n",
              "</mark>\n",
              " epoutofreachofchildre Com light &amp;moisture. Store below 30C, Proteated ofaRegis Dosage:As directed bythe esoldbyretall with Red&amp;Titanium dioxideIP Coiours:Ferric Oxide USPR Excipients Rrifloxacin INCL.OFALLTAXES Cnilmcoatedtabletcentan LEH1PRESCRIPTIC ERCIN PERCIN Mig.xic.No.:MNB/09/780 Prulifloxacin Talets 600 天579.20 TABS emailatdsrm@lupin.com KallnaSantacruz（) Freeno.:1800-209-2505 Adverse Drug reaction diak reportproductcomplaint latedsideeffects. od sugarandmental h sepoutofreacho</div></span>"
            ]
          },
          "metadata": {}
        }
      ],
      "source": [
        "Text = \"  EXPIRYDATE: B.NoPR220707 sideeffects. JUN.2024 epoutofreachofchildre Com light &moisture. Store below 30C, Proteated ofaRegis Dosage:As directed bythe esoldbyretall with Red&Titanium dioxideIP Coiours:Ferric Oxide USPR Excipients Rrifloxacin INCL.OFALLTAXES Cnilmcoatedtabletcentan LEH1PRESCRIPTIC ERCIN PERCIN Mig.xic.No.:MNB/09/780 Prulifloxacin Talets 600 天579.20 TABS emailatdsrm@lupin.com KallnaSantacruz（) Freeno.:1800-209-2505 Adverse Drug reaction diak reportproductcomplaint latedsideeffects. od sugarandmental h sepoutofreacho\"\n",
        "doc_1 = nlp_ner_1(Text)\n",
        "spacy.displacy.render(doc_1, style=\"ent\", jupyter=True) # display in Jupyter"
      ]
    },
    {
      "cell_type": "code",
      "execution_count": null,
      "id": "995cc42c",
      "metadata": {
        "colab": {
          "base_uri": "https://localhost:8080/"
        },
        "id": "995cc42c",
        "outputId": "0478125e-19f5-469c-b883-46f6d98c0c44"
      },
      "outputs": [
        {
          "output_type": "stream",
          "name": "stdout",
          "text": [
            "B.NoPR220707\n"
          ]
        }
      ],
      "source": [
        "for ent in doc_1.ents:\n",
        "    if ent.label_ == 'BATCH':\n",
        "        bno = ent.text\n",
        "        print(bno)"
      ]
    },
    {
      "cell_type": "code",
      "execution_count": null,
      "id": "476dafb9",
      "metadata": {
        "id": "476dafb9"
      },
      "outputs": [],
      "source": []
    },
    {
      "cell_type": "code",
      "execution_count": null,
      "id": "e28fc706",
      "metadata": {
        "id": "e28fc706"
      },
      "outputs": [],
      "source": [
        "\"Inverted_ner_model\"\n",
        "nlp_ner_2 = spacy.load(\"./model-best\")"
      ]
    },
    {
      "cell_type": "code",
      "execution_count": null,
      "id": "7d985513",
      "metadata": {
        "colab": {
          "base_uri": "https://localhost:8080/",
          "height": 87
        },
        "id": "7d985513",
        "outputId": "cdf9723b-0c6b-4ad2-e804-d219408aabff"
      },
      "outputs": [
        {
          "output_type": "display_data",
          "data": {
            "text/plain": [
              "<IPython.core.display.HTML object>"
            ],
            "text/html": [
              "<span class=\"tex2jax_ignore\"><div class=\"entities\" style=\"line-height: 2.5; direction: ltr\">Batch No. \n",
              "<mark class=\"entity\" style=\"background: #ddd; padding: 0.45em 0.6em; margin: 0 0.25em; line-height: 1; border-radius: 0.35em;\">\n",
              "    BRY1068\n",
              "    <span style=\"font-size: 0.8em; font-weight: bold; line-height: 1; border-radius: 0.35em; vertical-align: middle; margin-left: 0.5rem\">BATCH</span>\n",
              "</mark>\n",
              " Mfg.Date \n",
              "<mark class=\"entity\" style=\"background: #ddd; padding: 0.45em 0.6em; margin: 0 0.25em; line-height: 1; border-radius: 0.35em;\">\n",
              "    03/2022\n",
              "    <span style=\"font-size: 0.8em; font-weight: bold; line-height: 1; border-radius: 0.35em; vertical-align: middle; margin-left: 0.5rem\">MFD</span>\n",
              "</mark>\n",
              " ExpiryDate: \n",
              "<mark class=\"entity\" style=\"background: #ddd; padding: 0.45em 0.6em; margin: 0 0.25em; line-height: 1; border-radius: 0.35em;\">\n",
              "    02/2025\n",
              "    <span style=\"font-size: 0.8em; font-weight: bold; line-height: 1; border-radius: 0.35em; vertical-align: middle; margin-left: 0.5rem\">EXPIRY</span>\n",
              "</mark>\n",
              " Maximum \n",
              "<mark class=\"entity\" style=\"background: #ddd; padding: 0.45em 0.6em; margin: 0 0.25em; line-height: 1; border-radius: 0.35em;\">\n",
              "    49.35\n",
              "    <span style=\"font-size: 0.8em; font-weight: bold; line-height: 1; border-radius: 0.35em; vertical-align: middle; margin-left: 0.5rem\">MRP</span>\n",
              "</mark>\n",
              " Retail PriceR: Per4Tablets (InclusiveofAll Taxes) Mfg.Lic.No.:L/17/2007/MNB Zydus Marketed by:\n",
              "<mark class=\"entity\" style=\"background: #ddd; padding: 0.45em 0.6em; margin: 0 0.25em; line-height: 1; border-radius: 0.35em;\">\n",
              "    Zydus Liva\n",
              "    <span style=\"font-size: 0.8em; font-weight: bold; line-height: 1; border-radius: 0.35em; vertical-align: middle; margin-left: 0.5rem\">BRAND</span>\n",
              "</mark>\n",
              "</div></span>"
            ]
          },
          "metadata": {}
        }
      ],
      "source": [
        "doc_2 = nlp_ner_2('Batch No. BRY1068 Mfg.Date 03/2022 ExpiryDate: 02/2025 Maximum 49.35 Retail PriceR: Per4Tablets (InclusiveofAll Taxes) Mfg.Lic.No.:L/17/2007/MNB Zydus Marketed by:Zydus Liva')\n",
        "spacy.displacy.render(doc_2, style=\"ent\", jupyter=True) # display in Jupyter"
      ]
    },
    {
      "cell_type": "code",
      "execution_count": null,
      "id": "64d6b0fe",
      "metadata": {
        "id": "64d6b0fe"
      },
      "outputs": [],
      "source": [
        "doc_3 = nlp_ner_2('BRY1063')"
      ]
    },
    {
      "cell_type": "code",
      "execution_count": null,
      "id": "20beb432",
      "metadata": {
        "id": "20beb432"
      },
      "outputs": [],
      "source": [
        "#hysician moisture. 1083788 21083786 B.N0:N410394 MFD.AUG.21 FXP.U1-.24 M.R.P.RS.71.70 3 TabS. (InCL. OF ALL TAXES) AzIciP\n",
        "\n"
      ]
    },
    {
      "cell_type": "code",
      "execution_count": null,
      "id": "290bd0b0",
      "metadata": {
        "id": "290bd0b0"
      },
      "outputs": [],
      "source": []
    },
    {
      "cell_type": "code",
      "execution_count": null,
      "id": "72b4461a",
      "metadata": {
        "colab": {
          "base_uri": "https://localhost:8080/"
        },
        "id": "72b4461a",
        "outputId": "4ed73a7c-c11a-427d-894d-3a1e331976fb"
      },
      "outputs": [
        {
          "output_type": "stream",
          "name": "stdout",
          "text": [
            "BRY1068\n"
          ]
        }
      ],
      "source": [
        "for ent in doc_2.ents:\n",
        "    if ent.label_ == 'BATCH':\n",
        "        bno = ent.text\n",
        "        print(bno)"
      ]
    },
    {
      "cell_type": "code",
      "execution_count": null,
      "id": "c6e3cb22",
      "metadata": {
        "id": "c6e3cb22"
      },
      "outputs": [],
      "source": []
    },
    {
      "cell_type": "code",
      "execution_count": null,
      "id": "67e27eee",
      "metadata": {
        "id": "67e27eee"
      },
      "outputs": [],
      "source": [
        "txt = \"B.NO14TTL293\""
      ]
    },
    {
      "cell_type": "code",
      "execution_count": null,
      "id": "e3669f5b",
      "metadata": {
        "id": "e3669f5b",
        "colab": {
          "base_uri": "https://localhost:8080/"
        },
        "outputId": "32ab3639-c6f8-45af-c660-9b27c0591daf"
      },
      "outputs": [
        {
          "output_type": "stream",
          "name": "stdout",
          "text": [
            "B.NO14TTL293\n"
          ]
        }
      ],
      "source": [
        "\n",
        "print(txt)"
      ]
    },
    {
      "cell_type": "code",
      "execution_count": null,
      "id": "1c4411ac",
      "metadata": {
        "id": "1c4411ac",
        "colab": {
          "base_uri": "https://localhost:8080/"
        },
        "outputId": "004dd68c-0dd0-412a-aa15-80aa412bd380"
      },
      "outputs": [
        {
          "output_type": "stream",
          "name": "stdout",
          "text": [
            "14TTL293\n"
          ]
        }
      ],
      "source": [
        "import re\n",
        "x = re.search(\"B.NO\", txt)\n",
        "a=x.span()[1]\n",
        "print(txt[a:])"
      ]
    },
    {
      "cell_type": "code",
      "execution_count": null,
      "id": "ad6a4f03",
      "metadata": {
        "id": "ad6a4f03",
        "colab": {
          "base_uri": "https://localhost:8080/"
        },
        "outputId": "a59d5ad2-83fe-460f-b339-461771fcc54b"
      },
      "outputs": [
        {
          "output_type": "stream",
          "name": "stdout",
          "text": [
            "14TTL293\n"
          ]
        }
      ],
      "source": [
        "txt = \"B.NO14TTL293\"\n",
        "if re.search(\"B.NO\", txt):\n",
        "    a=x.span()[1]\n",
        "elif re.search(\"B.N0\", txt):\n",
        "    a=x.span()[1]\n",
        "elif re.search(\"B.N0\", txt):\n",
        "    a=x.span()[1]\n",
        "\n",
        "print(txt[a:])"
      ]
    },
    {
      "cell_type": "code",
      "execution_count": null,
      "id": "2d929e7c",
      "metadata": {
        "id": "2d929e7c",
        "colab": {
          "base_uri": "https://localhost:8080/"
        },
        "outputId": "c28f799c-c9b2-4cec-afb5-81c911c45b1f"
      },
      "outputs": [
        {
          "output_type": "stream",
          "name": "stdout",
          "text": [
            "14ttl293\n"
          ]
        }
      ],
      "source": [
        "txt = \"B.NO14TTL293\"\n",
        "pattern = 'B.NO|BNO|batch no|batch. no|B.N0|BN0.| '\n",
        "result = re.sub(pattern.casefold(), '',txt.casefold()).replace('.','')\n",
        "\n",
        "print(result)"
      ]
    },
    {
      "cell_type": "code",
      "execution_count": null,
      "id": "37793a5d",
      "metadata": {
        "id": "37793a5d",
        "colab": {
          "base_uri": "https://localhost:8080/",
          "height": 141
        },
        "outputId": "a4b51416-98db-4234-82d7-78e99328be64"
      },
      "outputs": [
        {
          "output_type": "error",
          "ename": "NameError",
          "evalue": "name 'B' is not defined",
          "traceback": [
            "\u001b[0;31m---------------------------------------------------------------------------\u001b[0m",
            "\u001b[0;31mNameError\u001b[0m                                 Traceback (most recent call last)",
            "\u001b[0;32m<ipython-input-27-7045703cc3e2>\u001b[0m in \u001b[0;36m<cell line: 1>\u001b[0;34m()\u001b[0m\n\u001b[0;32m----> 1\u001b[0;31m \u001b[0mB\u001b[0m\u001b[0;34m.\u001b[0m\u001b[0mNO14TTL298\u001b[0m\u001b[0;34m\u001b[0m\u001b[0;34m\u001b[0m\u001b[0m\n\u001b[0m",
            "\u001b[0;31mNameError\u001b[0m: name 'B' is not defined"
          ]
        }
      ],
      "source": [
        "B.NO14TTL298"
      ]
    },
    {
      "cell_type": "code",
      "execution_count": null,
      "id": "MUqeC-xQ_GmS",
      "metadata": {
        "id": "MUqeC-xQ_GmS"
      },
      "outputs": [],
      "source": []
    }
  ],
  "metadata": {
    "colab": {
      "provenance": []
    },
    "kernelspec": {
      "display_name": "Python 3 (ipykernel)",
      "language": "python",
      "name": "python3"
    },
    "language_info": {
      "codemirror_mode": {
        "name": "ipython",
        "version": 3
      },
      "file_extension": ".py",
      "mimetype": "text/x-python",
      "name": "python",
      "nbconvert_exporter": "python",
      "pygments_lexer": "ipython3",
      "version": "3.12.1"
    }
  },
  "nbformat": 4,
  "nbformat_minor": 5
}